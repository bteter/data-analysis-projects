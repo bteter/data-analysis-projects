{
 "cells": [
  {
   "cell_type": "markdown",
   "id": "d2d52186",
   "metadata": {},
   "source": [
    "# Welcome to the Data Manipulation Exercises\n",
    "\n",
    "The workbook has been broken up into three sections.  Each section correlates to a reading assignment within the textbook."
   ]
  },
  {
   "cell_type": "code",
<<<<<<< HEAD
   "execution_count": 16,
=======
   "execution_count": 2,
>>>>>>> 2984efd (data manipulation and merging tables workbooks)
   "id": "b781c5c2",
   "metadata": {},
   "outputs": [
    {
     "name": "stdout",
     "output_type": "stream",
     "text": [
      "     survived  pclass     sex   age  sibsp  parch     fare embarked   class  \\\n",
      "0           0       3    male  22.0      1      0   7.2500        S   Third   \n",
      "1           1       1  female  38.0      1      0  71.2833        C   First   \n",
      "2           1       3  female  26.0      0      0   7.9250        S   Third   \n",
      "3           1       1  female  35.0      1      0  53.1000        S   First   \n",
      "4           0       3    male  35.0      0      0   8.0500        S   Third   \n",
      "..        ...     ...     ...   ...    ...    ...      ...      ...     ...   \n",
      "886         0       2    male  27.0      0      0  13.0000        S  Second   \n",
      "887         1       1  female  19.0      0      0  30.0000        S   First   \n",
      "888         0       3  female   NaN      1      2  23.4500        S   Third   \n",
      "889         1       1    male  26.0      0      0  30.0000        C   First   \n",
      "890         0       3    male  32.0      0      0   7.7500        Q   Third   \n",
      "\n",
      "       who  adult_male deck  embark_town alive  alone  \n",
      "0      man        True  NaN  Southampton    no  False  \n",
      "1    woman       False    C    Cherbourg   yes  False  \n",
      "2    woman       False  NaN  Southampton   yes   True  \n",
      "3    woman       False    C  Southampton   yes  False  \n",
      "4      man        True  NaN  Southampton    no   True  \n",
      "..     ...         ...  ...          ...   ...    ...  \n",
      "886    man        True  NaN  Southampton    no   True  \n",
      "887  woman       False    B  Southampton   yes   True  \n",
      "888  woman       False  NaN  Southampton    no  False  \n",
      "889    man        True    C    Cherbourg   yes   True  \n",
      "890    man        True  NaN   Queenstown    no   True  \n",
      "\n",
      "[891 rows x 15 columns]\n"
     ]
    }
   ],
   "source": [
    "import pandas as pd\n",
    "import numpy as np\n",
    "\n",
    "data = pd.read_csv(\"titanic.csv\")\n",
    "\n",
<<<<<<< HEAD
    "We are going to be using the Titanic Dataset. Make sure to run a head() before you start working with manipulation methods."
   ]
  },
  {
   "cell_type": "code",
   "execution_count": 17,
   "id": "bfa6771a",
   "metadata": {},
   "outputs": [],
   "source": [
    "# Run the head of your data set here:\n"
=======
    "print(data)"
>>>>>>> 2984efd (data manipulation and merging tables workbooks)
   ]
  },
  {
   "cell_type": "code",
<<<<<<< HEAD
   "execution_count": 18,
   "id": "90fb6f46",
=======
   "execution_count": 3,
   "id": "2a701fe6",
>>>>>>> 2984efd (data manipulation and merging tables workbooks)
   "metadata": {},
   "outputs": [],
   "source": [
    "## Before You Get Started\n",
    "\n",
    "# We are going to be using the Titanic Dataset. Make sure to run a head() before you start working with manipulation methods."
   ]
  },
  {
   "cell_type": "code",
<<<<<<< HEAD
   "execution_count": 19,
=======
   "execution_count": 4,
   "id": "bfa6771a",
   "metadata": {},
   "outputs": [
    {
     "name": "stdout",
     "output_type": "stream",
     "text": [
      "   survived  pclass     sex   age  sibsp  parch     fare embarked  class  \\\n",
      "0         0       3    male  22.0      1      0   7.2500        S  Third   \n",
      "1         1       1  female  38.0      1      0  71.2833        C  First   \n",
      "2         1       3  female  26.0      0      0   7.9250        S  Third   \n",
      "3         1       1  female  35.0      1      0  53.1000        S  First   \n",
      "4         0       3    male  35.0      0      0   8.0500        S  Third   \n",
      "\n",
      "     who  adult_male deck  embark_town alive  alone  \n",
      "0    man        True  NaN  Southampton    no  False  \n",
      "1  woman       False    C    Cherbourg   yes  False  \n",
      "2  woman       False  NaN  Southampton   yes   True  \n",
      "3  woman       False    C  Southampton   yes  False  \n",
      "4    man        True  NaN  Southampton    no   True  \n"
     ]
    }
   ],
   "source": [
    "# Run the head of your data set here:\n",
    "print(data.head())"
   ]
  },
  {
   "cell_type": "code",
   "execution_count": 5,
   "id": "90fb6f46",
   "metadata": {},
   "outputs": [
    {
     "data": {
      "text/plain": [
       "np.int64(107)"
      ]
     },
     "execution_count": 5,
     "metadata": {},
     "output_type": "execute_result"
    }
   ],
   "source": [
    "# check for duplicates\n",
    "data.duplicated().sum()"
   ]
  },
  {
   "cell_type": "code",
   "execution_count": 6,
>>>>>>> 2984efd (data manipulation and merging tables workbooks)
   "id": "dddfd9e9",
   "metadata": {},
   "outputs": [
    {
     "data": {
      "text/html": [
       "<div>\n",
       "<style scoped>\n",
       "    .dataframe tbody tr th:only-of-type {\n",
       "        vertical-align: middle;\n",
       "    }\n",
       "\n",
       "    .dataframe tbody tr th {\n",
       "        vertical-align: top;\n",
       "    }\n",
       "\n",
       "    .dataframe thead th {\n",
       "        text-align: right;\n",
       "    }\n",
       "</style>\n",
       "<table border=\"1\" class=\"dataframe\">\n",
       "  <thead>\n",
       "    <tr style=\"text-align: right;\">\n",
       "      <th></th>\n",
       "      <th>survived</th>\n",
       "      <th>pclass</th>\n",
       "      <th>sex</th>\n",
       "      <th>age</th>\n",
       "      <th>sibsp</th>\n",
       "      <th>parch</th>\n",
       "      <th>fare</th>\n",
       "      <th>embarked</th>\n",
       "      <th>class</th>\n",
       "      <th>who</th>\n",
       "      <th>adult_male</th>\n",
       "      <th>deck</th>\n",
       "      <th>embark_town</th>\n",
       "      <th>alive</th>\n",
       "      <th>alone</th>\n",
       "    </tr>\n",
       "  </thead>\n",
       "  <tbody>\n",
       "    <tr>\n",
       "      <th>0</th>\n",
       "      <td>0</td>\n",
       "      <td>3</td>\n",
       "      <td>male</td>\n",
       "      <td>22.0</td>\n",
       "      <td>1</td>\n",
       "      <td>0</td>\n",
       "      <td>7.2500</td>\n",
       "      <td>S</td>\n",
       "      <td>Third</td>\n",
       "      <td>man</td>\n",
       "      <td>True</td>\n",
       "      <td>NaN</td>\n",
       "      <td>Southampton</td>\n",
       "      <td>no</td>\n",
       "      <td>False</td>\n",
       "    </tr>\n",
       "    <tr>\n",
       "      <th>1</th>\n",
       "      <td>1</td>\n",
       "      <td>1</td>\n",
       "      <td>female</td>\n",
       "      <td>38.0</td>\n",
       "      <td>1</td>\n",
       "      <td>0</td>\n",
       "      <td>71.2833</td>\n",
       "      <td>C</td>\n",
       "      <td>First</td>\n",
       "      <td>woman</td>\n",
       "      <td>False</td>\n",
       "      <td>C</td>\n",
       "      <td>Cherbourg</td>\n",
       "      <td>yes</td>\n",
       "      <td>False</td>\n",
       "    </tr>\n",
       "    <tr>\n",
       "      <th>2</th>\n",
       "      <td>1</td>\n",
       "      <td>3</td>\n",
       "      <td>female</td>\n",
       "      <td>26.0</td>\n",
       "      <td>0</td>\n",
       "      <td>0</td>\n",
       "      <td>7.9250</td>\n",
       "      <td>S</td>\n",
       "      <td>Third</td>\n",
       "      <td>woman</td>\n",
       "      <td>False</td>\n",
       "      <td>NaN</td>\n",
       "      <td>Southampton</td>\n",
       "      <td>yes</td>\n",
       "      <td>True</td>\n",
       "    </tr>\n",
       "    <tr>\n",
       "      <th>3</th>\n",
       "      <td>1</td>\n",
       "      <td>1</td>\n",
       "      <td>female</td>\n",
       "      <td>35.0</td>\n",
       "      <td>1</td>\n",
       "      <td>0</td>\n",
       "      <td>53.1000</td>\n",
       "      <td>S</td>\n",
       "      <td>First</td>\n",
       "      <td>woman</td>\n",
       "      <td>False</td>\n",
       "      <td>C</td>\n",
       "      <td>Southampton</td>\n",
       "      <td>yes</td>\n",
       "      <td>False</td>\n",
       "    </tr>\n",
       "    <tr>\n",
       "      <th>4</th>\n",
       "      <td>0</td>\n",
       "      <td>3</td>\n",
       "      <td>male</td>\n",
       "      <td>35.0</td>\n",
       "      <td>0</td>\n",
       "      <td>0</td>\n",
       "      <td>8.0500</td>\n",
       "      <td>S</td>\n",
       "      <td>Third</td>\n",
       "      <td>man</td>\n",
       "      <td>True</td>\n",
       "      <td>NaN</td>\n",
       "      <td>Southampton</td>\n",
       "      <td>no</td>\n",
       "      <td>True</td>\n",
       "    </tr>\n",
       "    <tr>\n",
       "      <th>...</th>\n",
       "      <td>...</td>\n",
       "      <td>...</td>\n",
       "      <td>...</td>\n",
       "      <td>...</td>\n",
       "      <td>...</td>\n",
       "      <td>...</td>\n",
       "      <td>...</td>\n",
       "      <td>...</td>\n",
       "      <td>...</td>\n",
       "      <td>...</td>\n",
       "      <td>...</td>\n",
       "      <td>...</td>\n",
       "      <td>...</td>\n",
       "      <td>...</td>\n",
       "      <td>...</td>\n",
       "    </tr>\n",
       "    <tr>\n",
       "      <th>885</th>\n",
       "      <td>0</td>\n",
       "      <td>3</td>\n",
       "      <td>female</td>\n",
       "      <td>39.0</td>\n",
       "      <td>0</td>\n",
       "      <td>5</td>\n",
       "      <td>29.1250</td>\n",
       "      <td>Q</td>\n",
       "      <td>Third</td>\n",
       "      <td>woman</td>\n",
       "      <td>False</td>\n",
       "      <td>NaN</td>\n",
       "      <td>Queenstown</td>\n",
       "      <td>no</td>\n",
       "      <td>False</td>\n",
       "    </tr>\n",
       "    <tr>\n",
       "      <th>887</th>\n",
       "      <td>1</td>\n",
       "      <td>1</td>\n",
       "      <td>female</td>\n",
       "      <td>19.0</td>\n",
       "      <td>0</td>\n",
       "      <td>0</td>\n",
       "      <td>30.0000</td>\n",
       "      <td>S</td>\n",
       "      <td>First</td>\n",
       "      <td>woman</td>\n",
       "      <td>False</td>\n",
       "      <td>B</td>\n",
       "      <td>Southampton</td>\n",
       "      <td>yes</td>\n",
       "      <td>True</td>\n",
       "    </tr>\n",
       "    <tr>\n",
       "      <th>888</th>\n",
       "      <td>0</td>\n",
       "      <td>3</td>\n",
       "      <td>female</td>\n",
       "      <td>NaN</td>\n",
       "      <td>1</td>\n",
       "      <td>2</td>\n",
       "      <td>23.4500</td>\n",
       "      <td>S</td>\n",
       "      <td>Third</td>\n",
       "      <td>woman</td>\n",
       "      <td>False</td>\n",
       "      <td>NaN</td>\n",
       "      <td>Southampton</td>\n",
       "      <td>no</td>\n",
       "      <td>False</td>\n",
       "    </tr>\n",
       "    <tr>\n",
       "      <th>889</th>\n",
       "      <td>1</td>\n",
       "      <td>1</td>\n",
       "      <td>male</td>\n",
       "      <td>26.0</td>\n",
       "      <td>0</td>\n",
       "      <td>0</td>\n",
       "      <td>30.0000</td>\n",
       "      <td>C</td>\n",
       "      <td>First</td>\n",
       "      <td>man</td>\n",
       "      <td>True</td>\n",
       "      <td>C</td>\n",
       "      <td>Cherbourg</td>\n",
       "      <td>yes</td>\n",
       "      <td>True</td>\n",
       "    </tr>\n",
       "    <tr>\n",
       "      <th>890</th>\n",
       "      <td>0</td>\n",
       "      <td>3</td>\n",
       "      <td>male</td>\n",
       "      <td>32.0</td>\n",
       "      <td>0</td>\n",
       "      <td>0</td>\n",
       "      <td>7.7500</td>\n",
       "      <td>Q</td>\n",
       "      <td>Third</td>\n",
       "      <td>man</td>\n",
       "      <td>True</td>\n",
       "      <td>NaN</td>\n",
       "      <td>Queenstown</td>\n",
       "      <td>no</td>\n",
       "      <td>True</td>\n",
       "    </tr>\n",
       "  </tbody>\n",
       "</table>\n",
       "<p>784 rows × 15 columns</p>\n",
       "</div>"
      ],
      "text/plain": [
       "     survived  pclass     sex   age  sibsp  parch     fare embarked  class  \\\n",
       "0           0       3    male  22.0      1      0   7.2500        S  Third   \n",
       "1           1       1  female  38.0      1      0  71.2833        C  First   \n",
       "2           1       3  female  26.0      0      0   7.9250        S  Third   \n",
       "3           1       1  female  35.0      1      0  53.1000        S  First   \n",
       "4           0       3    male  35.0      0      0   8.0500        S  Third   \n",
       "..        ...     ...     ...   ...    ...    ...      ...      ...    ...   \n",
       "885         0       3  female  39.0      0      5  29.1250        Q  Third   \n",
       "887         1       1  female  19.0      0      0  30.0000        S  First   \n",
       "888         0       3  female   NaN      1      2  23.4500        S  Third   \n",
       "889         1       1    male  26.0      0      0  30.0000        C  First   \n",
       "890         0       3    male  32.0      0      0   7.7500        Q  Third   \n",
       "\n",
       "       who  adult_male deck  embark_town alive  alone  \n",
       "0      man        True  NaN  Southampton    no  False  \n",
       "1    woman       False    C    Cherbourg   yes  False  \n",
       "2    woman       False  NaN  Southampton   yes   True  \n",
       "3    woman       False    C  Southampton   yes  False  \n",
       "4      man        True  NaN  Southampton    no   True  \n",
       "..     ...         ...  ...          ...   ...    ...  \n",
       "885  woman       False  NaN   Queenstown    no  False  \n",
       "887  woman       False    B  Southampton   yes   True  \n",
       "888  woman       False  NaN  Southampton    no  False  \n",
       "889    man        True    C    Cherbourg   yes   True  \n",
       "890    man        True  NaN   Queenstown    no   True  \n",
       "\n",
       "[784 rows x 15 columns]"
      ]
     },
     "execution_count": 6,
     "metadata": {},
     "output_type": "execute_result"
    }
   ],
   "source": [
    "# if there are, go ahead and drop them:\n",
    "data.drop_duplicates()"
   ]
  },
  {
   "cell_type": "markdown",
   "id": "0f70caa2",
   "metadata": {},
   "source": [
    "### Cleaning Note:\n",
    "\n",
    "While the columns are not the \"prettiest\", don't adjust any of them yet. We are going to update some values and add some values as we workthrough this notebook. Apologies for the extra visual \"noise\" on your screen. You will be given the option to tidy up the columns at the end of this notebook."
   ]
  },
  {
   "cell_type": "markdown",
   "id": "11789dff",
   "metadata": {},
   "source": [
    "## Running Tables Note:  \n",
    "If your tables don't appear to have accepted your changes, try the \"Run All\" option in the \"Cell\" section of the menu bar.  "
   ]
  },
  {
   "cell_type": "markdown",
   "id": "a4104f7d",
   "metadata": {},
   "source": [
    "<span style=\"background-color:dodgerblue; color:dodgerblue;\">- - - - - - - - - - - - - - - - - - - - - - - - - - - - - - - - - - - - - - - - - - - - - - - - - - - - - - - - - - - - - - - - - - - - - - - - - - - - - - - - - - - - - - - - -</span> "
   ]
  },
  {
   "cell_type": "markdown",
   "id": "0948036e",
   "metadata": {},
   "source": [
    "# A. Aggregation\n",
    "\n",
    "1. Work through the section Exercises.  \n",
    "    - There are 4 sections in part A:\n",
    "        - Groupby\n",
    "        - Aggregation Methods\n",
    "        - Groupby and Basic Math\n",
    "        - Groupby and Multiple Aggregations\n"
   ]
  },
  {
   "cell_type": "markdown",
   "id": "1116d353",
   "metadata": {},
   "source": [
    "#### Creating Variables.\n",
    "\n",
    "As we begin to manipulate our data, create new variables to store your work in.  This will keep your original data in tact.  Having the original dataset available will save you time with each manipulation.  You can also create variable names that inform you of the purpose of the manipulation.  "
   ]
  },
  {
   "cell_type": "markdown",
   "id": "0621dc21",
   "metadata": {},
   "source": [
    "### 1: Groupby <span style=\"color:dodgerblue;\"> - - - - - - - - - - - - - - - - - - - - - - - - - - - - - - - - - - - - - - - - - - - - - - - - - - - </span> "
   ]
  },
  {
   "cell_type": "markdown",
   "id": "c89219ea",
   "metadata": {},
   "source": [
    "#### Groupby \"embark_town\"\n",
    "\n",
    "1. Using the titanic data set, groupby \"embark_town\".\n",
    "1. Create a variable that will represent the grouping of data. \n",
    "1. Initialize it using the groupby() function and pass it the column.\n"
   ]
  },
  {
   "cell_type": "code",
<<<<<<< HEAD
   "execution_count": 20,
=======
   "execution_count": 7,
>>>>>>> 2984efd (data manipulation and merging tables workbooks)
   "id": "34322f41",
   "metadata": {},
   "outputs": [],
   "source": [
    "# Code your groupby \"embark_town\" here:\n",
    "\n",
    "data_group = data.groupby(\"embark_town\") \n",
    "\n"
   ]
  },
  {
   "cell_type": "code",
<<<<<<< HEAD
   "execution_count": 21,
=======
   "execution_count": 8,
>>>>>>> 2984efd (data manipulation and merging tables workbooks)
   "id": "0465bb2f",
   "metadata": {},
   "outputs": [
    {
     "data": {
      "text/html": [
       "<div>\n",
       "<style scoped>\n",
       "    .dataframe tbody tr th:only-of-type {\n",
       "        vertical-align: middle;\n",
       "    }\n",
       "\n",
       "    .dataframe tbody tr th {\n",
       "        vertical-align: top;\n",
       "    }\n",
       "\n",
       "    .dataframe thead th {\n",
       "        text-align: right;\n",
       "    }\n",
       "</style>\n",
       "<table border=\"1\" class=\"dataframe\">\n",
       "  <thead>\n",
       "    <tr style=\"text-align: right;\">\n",
       "      <th></th>\n",
       "      <th>survived</th>\n",
       "      <th>pclass</th>\n",
       "      <th>sex</th>\n",
       "      <th>age</th>\n",
       "      <th>sibsp</th>\n",
       "      <th>parch</th>\n",
       "      <th>fare</th>\n",
       "      <th>embarked</th>\n",
       "      <th>class</th>\n",
       "      <th>who</th>\n",
       "      <th>adult_male</th>\n",
       "      <th>deck</th>\n",
       "      <th>alive</th>\n",
       "      <th>alone</th>\n",
       "    </tr>\n",
       "    <tr>\n",
       "      <th>embark_town</th>\n",
       "      <th></th>\n",
       "      <th></th>\n",
       "      <th></th>\n",
       "      <th></th>\n",
       "      <th></th>\n",
       "      <th></th>\n",
       "      <th></th>\n",
       "      <th></th>\n",
       "      <th></th>\n",
       "      <th></th>\n",
       "      <th></th>\n",
       "      <th></th>\n",
       "      <th></th>\n",
       "      <th></th>\n",
       "    </tr>\n",
       "  </thead>\n",
       "  <tbody>\n",
       "    <tr>\n",
       "      <th>Cherbourg</th>\n",
       "      <td>1</td>\n",
       "      <td>1</td>\n",
       "      <td>female</td>\n",
       "      <td>38.0</td>\n",
       "      <td>1</td>\n",
       "      <td>0</td>\n",
       "      <td>71.2833</td>\n",
       "      <td>C</td>\n",
       "      <td>First</td>\n",
       "      <td>woman</td>\n",
       "      <td>False</td>\n",
       "      <td>C</td>\n",
       "      <td>yes</td>\n",
       "      <td>False</td>\n",
       "    </tr>\n",
       "    <tr>\n",
       "      <th>Queenstown</th>\n",
       "      <td>0</td>\n",
       "      <td>3</td>\n",
       "      <td>male</td>\n",
       "      <td>2.0</td>\n",
       "      <td>0</td>\n",
       "      <td>0</td>\n",
       "      <td>8.4583</td>\n",
       "      <td>Q</td>\n",
       "      <td>Third</td>\n",
       "      <td>man</td>\n",
       "      <td>True</td>\n",
       "      <td>C</td>\n",
       "      <td>no</td>\n",
       "      <td>True</td>\n",
       "    </tr>\n",
       "    <tr>\n",
       "      <th>Southampton</th>\n",
       "      <td>0</td>\n",
       "      <td>3</td>\n",
       "      <td>male</td>\n",
       "      <td>22.0</td>\n",
       "      <td>1</td>\n",
       "      <td>0</td>\n",
       "      <td>7.2500</td>\n",
       "      <td>S</td>\n",
       "      <td>Third</td>\n",
       "      <td>man</td>\n",
       "      <td>True</td>\n",
       "      <td>C</td>\n",
       "      <td>no</td>\n",
       "      <td>False</td>\n",
       "    </tr>\n",
       "  </tbody>\n",
       "</table>\n",
       "</div>"
      ],
      "text/plain": [
       "             survived  pclass     sex   age  sibsp  parch     fare embarked  \\\n",
       "embark_town                                                                   \n",
       "Cherbourg           1       1  female  38.0      1      0  71.2833        C   \n",
       "Queenstown          0       3    male   2.0      0      0   8.4583        Q   \n",
       "Southampton         0       3    male  22.0      1      0   7.2500        S   \n",
       "\n",
       "             class    who  adult_male deck alive  alone  \n",
       "embark_town                                              \n",
       "Cherbourg    First  woman       False    C   yes  False  \n",
       "Queenstown   Third    man        True    C    no   True  \n",
       "Southampton  Third    man        True    C    no  False  "
      ]
     },
     "execution_count": 8,
     "metadata": {},
     "output_type": "execute_result"
    }
   ],
   "source": [
    "# To view the grouped data as a table, use the variable_name.first():\n",
    "\n",
    "data_group.first()"
   ]
  },
  {
   "cell_type": "markdown",
   "id": "0ffc226e",
   "metadata": {},
   "source": [
    "#### Groupby \"survived\"\n",
    "\n",
    "Did you know that you can also chain on some of our exploratory methods to the groupby method?\n",
    "\n",
    "1. Create & initalize a new variable to hold a table that will groupby \"survived\" \n",
    "1. Use method chaining to tack on the describe method"
   ]
  },
  {
   "cell_type": "code",
<<<<<<< HEAD
   "execution_count": 22,
=======
   "execution_count": 9,
>>>>>>> 2984efd (data manipulation and merging tables workbooks)
   "id": "3e9afd3a",
   "metadata": {},
   "outputs": [
    {
     "name": "stdout",
     "output_type": "stream",
     "text": [
      "<pandas.core.groupby.generic.DataFrameGroupBy object at 0x110d6cad0>\n"
     ]
    }
   ],
   "source": [
    "# Code your groupby \"survived\" table here:\n",
    "\n",
    "survived_group= data.groupby([\"survived\"]) \n",
    "\n",
    "# run your table below:\n",
    "\n",
    "print(survived_group)\n"
   ]
  },
  {
   "cell_type": "code",
<<<<<<< HEAD
   "execution_count": 23,
=======
   "execution_count": 10,
>>>>>>> 2984efd (data manipulation and merging tables workbooks)
   "id": "e218b79b",
   "metadata": {},
   "outputs": [
    {
     "name": "stdout",
     "output_type": "stream",
     "text": [
      "         pclass                                                 age  \\\n",
      "          count      mean       std  min  25%  50%  75%  max  count   \n",
      "survived                                                              \n",
      "0         549.0  2.531876  0.735805  1.0  2.0  3.0  3.0  3.0  424.0   \n",
      "1         342.0  1.950292  0.863321  1.0  1.0  2.0  3.0  3.0  290.0   \n",
      "\n",
      "                     ... parch        fare                             \\\n",
      "               mean  ...   75%  max  count       mean        std  min   \n",
      "survived             ...                                                \n",
      "0         30.626179  ...   0.0  6.0  549.0  22.117887  31.388207  0.0   \n",
      "1         28.343690  ...   1.0  5.0  342.0  48.395408  66.596998  0.0   \n",
      "\n",
      "                                         \n",
      "              25%   50%   75%       max  \n",
      "survived                                 \n",
      "0          7.8542  10.5  26.0  263.0000  \n",
      "1         12.4750  26.0  57.0  512.3292  \n",
      "\n",
      "[2 rows x 40 columns]\n"
     ]
    }
   ],
   "source": [
    "# run your table with describe\n",
    "\n",
    "survived_group = data.groupby(\"survived\").describe()\n",
    "\n",
    "print(survived_group)"
   ]
  },
  {
   "cell_type": "code",
<<<<<<< HEAD
   "execution_count": 24,
=======
   "execution_count": 11,
>>>>>>> 2984efd (data manipulation and merging tables workbooks)
   "id": "25c917d1",
   "metadata": {},
   "outputs": [],
   "source": [
    "# How is this table organized?  Why are there 40 columns now?\n",
    "\n",
    "#groupby drops NaN/null values\n"
   ]
  },
  {
   "cell_type": "markdown",
   "id": "42783c6d",
   "metadata": {},
   "source": [
    "### 2. Aggregation Methods <span style=\"color:dodgerblue;\"> - - - - - - - - - - - - - - - - - - - - - - - - - - - - - - - - - - - - - - - - - - - - - - - - - - - </span> "
   ]
  },
  {
   "cell_type": "markdown",
   "id": "3af74f16",
   "metadata": {},
   "source": [
    "Note: **agg()** and **aggregate()** are identical [source](https://pandas.pydata.org/docs/reference/api/pandas.DataFrame.aggregate.html)"
   ]
  },
  {
   "cell_type": "markdown",
   "id": "14147835",
   "metadata": {},
   "source": [
    "#### Method Chaining\n",
    "\n",
    "1. Create a variable to method chain **head()** and **agg()** togehter.\n",
    "1. Pass one of the following statistical values to **agg()**\n",
    "   - \"mean\", \"median\", \"mode\", \"min\", \"max\", \"std\", \"var\", \"first\", \"last\", \"sum\""
   ]
  },
  {
   "cell_type": "code",
<<<<<<< HEAD
   "execution_count": 25,
=======
   "execution_count": 12,
>>>>>>> 2984efd (data manipulation and merging tables workbooks)
   "id": "312a7c2f",
   "metadata": {},
   "outputs": [],
   "source": [
    "# Code your method chain here:\n",
    "\n",
    "mean_data = survived_group.head().agg(\"mean\")    "
   ]
  },
  {
   "cell_type": "code",
<<<<<<< HEAD
   "execution_count": 26,
=======
   "execution_count": 13,
>>>>>>> 2984efd (data manipulation and merging tables workbooks)
   "id": "089919c2",
   "metadata": {},
   "outputs": [
    {
     "name": "stdout",
     "output_type": "stream",
     "text": [
      "pclass  count    891.000000\n",
      "        mean       4.482169\n",
      "        std        1.599126\n",
      "        min        2.000000\n",
      "        25%        3.000000\n",
      "        50%        5.000000\n",
      "        75%        6.000000\n",
      "        max        6.000000\n",
      "age     count    714.000000\n",
      "        mean      58.969869\n",
      "        std       29.123062\n",
      "        min        1.420000\n",
      "        25%       40.000000\n",
      "        50%       56.000000\n",
      "        75%       75.000000\n",
      "        max      154.000000\n",
      "sibsp   count    891.000000\n",
      "        mean       1.027418\n",
      "        std        1.997087\n",
      "        min        0.000000\n",
      "        25%        0.000000\n",
      "        50%        0.000000\n",
      "        75%        2.000000\n",
      "        max       12.000000\n",
      "parch   count    891.000000\n",
      "        mean       0.794603\n",
      "        std        1.594878\n",
      "        min        0.000000\n",
      "        25%        0.000000\n",
      "        50%        0.000000\n",
      "        75%        1.000000\n",
      "        max       11.000000\n",
      "fare    count    891.000000\n",
      "        mean      70.513294\n",
      "        std       97.985205\n",
      "        min        0.000000\n",
      "        25%       20.329200\n",
      "        50%       36.500000\n",
      "        75%       83.000000\n",
      "        max      775.329200\n",
      "dtype: float64\n"
     ]
    }
   ],
   "source": [
    "# Create a variable to method chain head() with agg(\"sum\")\n",
    "\n",
    "sum_data = survived_group.head().agg(\"sum\") \n",
    "\n",
    "# run your table:\n",
    "\n",
    "print(sum_data)"
   ]
  },
  {
   "cell_type": "code",
<<<<<<< HEAD
   "execution_count": 27,
=======
   "execution_count": 14,
>>>>>>> 2984efd (data manipulation and merging tables workbooks)
   "id": "29e72d3b",
   "metadata": {},
   "outputs": [],
   "source": [
    "# Explain the sum table.  What is going on with the \"sex\", \"class\", and \"alive\" columns?\n",
    "\n",
    "# Sex, Class, and Alive columns have string values, you cannot aggregate a sum of a string"
   ]
  },
  {
   "cell_type": "markdown",
   "id": "8f370f65",
   "metadata": {},
   "source": [
    "#### Using a Dictionary <span style=\"color:darkorange;\"> - - - - - - - - - - - - - - - - - - - - - - - - - - - - - - - - - - - - - - - - - - - - - - - - - - - </span> \n",
    "##### A dictionary is a Python collection type.  \n",
    "\n",
    "Is a collection type that stores **key-value pairs**.  A key-value pair is an organization system that is made up of a single *key* that has one or more *values* paired with it.  \n",
    "Think of it like your contacts list.  The contacts list is the dictionary object.  \n",
    "Each contact is organized by a key, usually name.  And attached to each name is contact information, or the values.\n",
    "Some contacts might have email address, phone number, home or work address, etc. Other contacts may just be a name and phone number.  This is a very simple example, but understanding this organizational structure will be helpful as you learn to manipulate tables.  \n",
    "\n",
    "*Here is a dictionary example with 3 keys:*\n",
    ">**contacts_dictionary = {\"name1\": [\"email\", 555-5552, \"work info\"], \n",
    "      \"name2\": [\"email\", 555-5554],\n",
    "      \"name3\": 555-5555}**\n",
    "                     \n",
    "*Here is a dictionary example with a single key-value pair*\n",
    "**study_group_dictionary = {\"john\": [\"john@email.com\", 555-555-5555, \"works at LaunchCode headquarters\"]}**   \n",
    "\n",
    "It has a single key, and a list of values. The organization of this structure is called a \"Key-Value Pair\".\n",
    "Using the contact list example, the key would be the name of the person and the values would be their contact information.  The key is a single item (the person's name) and the values can be a single item (an email address) or mulitple items (email, phone number, address, work info, etc).\n",
    "Keys and values can be any data type, but must use correct data type syntax.  The keys do not have to be strings, but they do need to be a single value.  \n",
    "\n",
    "For more information, you can read more on dictionary objects [here](https://www.w3schools.com/python/python_dictionaries.asp).\n"
   ]
  },
  {
   "cell_type": "markdown",
   "id": "ac1059cd",
   "metadata": {},
   "source": [
    "#### Aggregation across multiple columns using dictionary functionality\n",
    "\n",
    "##### Syntax Example:\n",
    "\n",
    "**age_dictionary={\"age\":[\"sum\", \"max\"]}**\n",
    "\n",
    "We are creating a new dictionary (**age_dictionary**).  The key is **age** and the values we want are **\"sum\"\"** and **\"max\"**.  This dictionary object has now become a tempate for the aggregations we want to preform.  However, on it's own, it does nothing.  Once passed to the **agg()** method, it will pick out the specific location of data we want to examine.  Making a subset table.  \n",
    "\n",
    "The code is contained in the box below.  Run it and see what happens.\n",
    "\n",
    "\n",
    "For syntax examples, review [this webpage](https://www.geeksforgeeks.org/python-pandas-dataframe-aggregate/).\n",
    "#### <span style=\"color:coral;\"> - - - - - - - - - - - - - - - - - - - - - - - - - - - - - - - - - - - - - - - - - - - - - - - - - - - </span>"
   ]
  },
  {
   "cell_type": "code",
<<<<<<< HEAD
   "execution_count": null,
=======
   "execution_count": 15,
>>>>>>> 2984efd (data manipulation and merging tables workbooks)
   "id": "89392dec",
   "metadata": {},
   "outputs": [
    {
     "data": {
      "text/html": [
       "<div>\n",
       "<style scoped>\n",
       "    .dataframe tbody tr th:only-of-type {\n",
       "        vertical-align: middle;\n",
       "    }\n",
       "\n",
       "    .dataframe tbody tr th {\n",
       "        vertical-align: top;\n",
       "    }\n",
       "\n",
       "    .dataframe thead th {\n",
       "        text-align: right;\n",
       "    }\n",
       "</style>\n",
       "<table border=\"1\" class=\"dataframe\">\n",
       "  <thead>\n",
       "    <tr style=\"text-align: right;\">\n",
       "      <th></th>\n",
       "      <th>age</th>\n",
       "    </tr>\n",
       "  </thead>\n",
       "  <tbody>\n",
       "    <tr>\n",
       "      <th>sum</th>\n",
       "      <td>21205.17</td>\n",
       "    </tr>\n",
       "    <tr>\n",
       "      <th>max</th>\n",
       "      <td>80.00</td>\n",
       "    </tr>\n",
       "  </tbody>\n",
       "</table>\n",
       "</div>"
      ],
      "text/plain": [
       "          age\n",
       "sum  21205.17\n",
       "max     80.00"
      ]
     },
     "execution_count": 15,
     "metadata": {},
     "output_type": "execute_result"
    }
   ],
   "source": [
    "# Predict the table output before you uncomment the code below.\n",
    "\n",
    "# we will get the sum and max of the age column when passed through agg.\n",
    "\n",
    "age_dictionary={\"age\":[\"sum\", \"max\"]}\n",
    "dictionary_agg=data.agg(age_dictionary)\n",
    "dictionary_agg"
   ]
  },
  {
   "cell_type": "markdown",
   "id": "c6e1283b",
   "metadata": {},
   "source": [
    "1. What if we want to look at more than one column at a time?  We pass more dictionaries to the agg function.\n",
    "1. Create a variable to hold at least 3 columns.  Use the syntax from the \"Syntax Example\" as a guide.\n",
    "    - Aggregate the following:  survived: \"sum\" & \"count\"; age: \"std\" & \"min\", and sibsp: \"count\" & \"sum\""
   ]
  },
  {
   "cell_type": "code",
<<<<<<< HEAD
   "execution_count": 29,
=======
   "execution_count": 16,
>>>>>>> 2984efd (data manipulation and merging tables workbooks)
   "id": "2c7f1c6e",
   "metadata": {},
   "outputs": [
    {
     "data": {
      "text/html": [
       "<div>\n",
       "<style scoped>\n",
       "    .dataframe tbody tr th:only-of-type {\n",
       "        vertical-align: middle;\n",
       "    }\n",
       "\n",
       "    .dataframe tbody tr th {\n",
       "        vertical-align: top;\n",
       "    }\n",
       "\n",
       "    .dataframe thead th {\n",
       "        text-align: right;\n",
       "    }\n",
       "</style>\n",
       "<table border=\"1\" class=\"dataframe\">\n",
       "  <thead>\n",
       "    <tr style=\"text-align: right;\">\n",
       "      <th></th>\n",
       "      <th>survived</th>\n",
       "      <th>age</th>\n",
       "      <th>sibsp</th>\n",
       "    </tr>\n",
       "  </thead>\n",
       "  <tbody>\n",
       "    <tr>\n",
       "      <th>sum</th>\n",
       "      <td>342.0</td>\n",
       "      <td>NaN</td>\n",
       "      <td>466.0</td>\n",
       "    </tr>\n",
       "    <tr>\n",
       "      <th>count</th>\n",
       "      <td>891.0</td>\n",
       "      <td>NaN</td>\n",
       "      <td>891.0</td>\n",
       "    </tr>\n",
       "    <tr>\n",
       "      <th>std</th>\n",
       "      <td>NaN</td>\n",
       "      <td>14.526497</td>\n",
       "      <td>NaN</td>\n",
       "    </tr>\n",
       "    <tr>\n",
       "      <th>min</th>\n",
       "      <td>NaN</td>\n",
       "      <td>0.420000</td>\n",
       "      <td>NaN</td>\n",
       "    </tr>\n",
       "  </tbody>\n",
       "</table>\n",
       "</div>"
      ],
      "text/plain": [
       "       survived        age  sibsp\n",
       "sum       342.0        NaN  466.0\n",
       "count     891.0        NaN  891.0\n",
       "std         NaN  14.526497    NaN\n",
       "min         NaN   0.420000    NaN"
      ]
     },
     "execution_count": 16,
     "metadata": {},
     "output_type": "execute_result"
    }
   ],
   "source": [
    "# Code your dictionary here:\n",
    "\n",
    "titanic_dictionary={\"survived\":[\"sum\", \"count\"],\n",
    "                \"age\":[\"std\", \"min\"],\n",
    "                \"sibsp\":[\"count\", \"sum\"]}\n",
    "titanic_dictionary_agg=data.agg(titanic_dictionary)\n",
    "\n",
    "titanic_dictionary_agg\n"
   ]
  },
  {
   "cell_type": "markdown",
   "id": "297d7169",
   "metadata": {},
   "source": [
    "### 3. Groupby and Basic Math <span style=\"color:dodgerblue;\"> - - - - - - - - - - - - - - - - - - - - - - - - - - - - - - - - - - - - - - - - - - - - - - - - - - - </span> \n",
    "\n",
    "1. Groupby \"pclass\".  Make sure you use a variable to hold your grouped data."
   ]
  },
  {
   "cell_type": "code",
<<<<<<< HEAD
   "execution_count": 30,
=======
   "execution_count": 17,
>>>>>>> 2984efd (data manipulation and merging tables workbooks)
   "id": "ac154abb",
   "metadata": {},
   "outputs": [
    {
     "name": "stdout",
     "output_type": "stream",
     "text": [
      "        survived   age  sibsp  parch     fare\n",
      "pclass                                       \n",
      "1              1  38.0      1      0  71.2833\n",
      "2              1  14.0      1      0  30.0708\n",
      "3              0  22.0      1      0   7.2500\n"
     ]
    }
   ],
   "source": [
    "# Code your groupby here:\n",
    "\n",
<<<<<<< HEAD
    "# <WARNING> For this section, you will need to filter out non-numeric data to run the aggregations\n",
    "## Uncomment the line below, and use this 'num_only_data' variable as needed for Section 3 and Section 4\n",
    "# num_only_data = data.select_dtypes(include='number')\n",
=======
    "data_numbers = data.select_dtypes(include='number')\n",
    "passenger_class = data_numbers.groupby('pclass')\n",
>>>>>>> 2984efd (data manipulation and merging tables workbooks)
    "\n",
    "# Run your table using first() here instead of head():\n",
    "\n",
    "print(passenger_class.first())\n"
   ]
  },
  {
   "cell_type": "markdown",
   "id": "b5b8a0be",
   "metadata": {},
   "source": [
    "### 4. Groupby and Multiple Aggregations <span style=\"color:dodgerblue;\"> - - - - - - - - - - - - - - - - - - - - - - - - - - - - - - - - - - - - - - - - - - - - - - - - - - - </span> "
   ]
  },
  {
   "cell_type": "markdown",
   "id": "83b74e40",
   "metadata": {},
   "source": [
    "#### Group with a List<span style=\"color:dodgerblue;\"> - - - - - - - - - - - - - - - - - - - - - - - - - - - - - - - - - - - - - - - - - - - - - - - - - - - </span>"
   ]
  },
  {
   "cell_type": "markdown",
   "id": "85d1655c",
   "metadata": {},
   "source": [
    "1. We want to do muliple aggregation functions to our newly grouped data set.  We created a variable to hold a list of functions we want to perform.  These functions are part of the agg method.  When we pass our list to the method, the method will iterate through each item and perform that function for the entire table."
   ]
  },
  {
   "cell_type": "code",
<<<<<<< HEAD
   "execution_count": 31,
=======
   "execution_count": 18,
>>>>>>> 2984efd (data manipulation and merging tables workbooks)
   "id": "d79b7b1d",
   "metadata": {},
   "outputs": [
    {
     "data": {
      "text/html": [
       "<div>\n",
       "<style scoped>\n",
       "    .dataframe tbody tr th:only-of-type {\n",
       "        vertical-align: middle;\n",
       "    }\n",
       "\n",
       "    .dataframe tbody tr th {\n",
       "        vertical-align: top;\n",
       "    }\n",
       "\n",
       "    .dataframe thead tr th {\n",
       "        text-align: left;\n",
       "    }\n",
       "\n",
       "    .dataframe thead tr:last-of-type th {\n",
       "        text-align: right;\n",
       "    }\n",
       "</style>\n",
       "<table border=\"1\" class=\"dataframe\">\n",
       "  <thead>\n",
       "    <tr>\n",
       "      <th></th>\n",
       "      <th colspan=\"10\" halign=\"left\">survived</th>\n",
       "      <th>...</th>\n",
       "      <th colspan=\"10\" halign=\"left\">fare</th>\n",
       "    </tr>\n",
       "    <tr>\n",
       "      <th></th>\n",
       "      <th>sum</th>\n",
       "      <th>mean</th>\n",
       "      <th>median</th>\n",
       "      <th>min</th>\n",
       "      <th>max</th>\n",
       "      <th>std</th>\n",
       "      <th>var</th>\n",
       "      <th>first</th>\n",
       "      <th>last</th>\n",
       "      <th>count</th>\n",
       "      <th>...</th>\n",
       "      <th>sum</th>\n",
       "      <th>mean</th>\n",
       "      <th>median</th>\n",
       "      <th>min</th>\n",
       "      <th>max</th>\n",
       "      <th>std</th>\n",
       "      <th>var</th>\n",
       "      <th>first</th>\n",
       "      <th>last</th>\n",
       "      <th>count</th>\n",
       "    </tr>\n",
       "    <tr>\n",
       "      <th>pclass</th>\n",
       "      <th></th>\n",
       "      <th></th>\n",
       "      <th></th>\n",
       "      <th></th>\n",
       "      <th></th>\n",
       "      <th></th>\n",
       "      <th></th>\n",
       "      <th></th>\n",
       "      <th></th>\n",
       "      <th></th>\n",
       "      <th></th>\n",
       "      <th></th>\n",
       "      <th></th>\n",
       "      <th></th>\n",
       "      <th></th>\n",
       "      <th></th>\n",
       "      <th></th>\n",
       "      <th></th>\n",
       "      <th></th>\n",
       "      <th></th>\n",
       "      <th></th>\n",
       "    </tr>\n",
       "  </thead>\n",
       "  <tbody>\n",
       "    <tr>\n",
       "      <th>1</th>\n",
       "      <td>136</td>\n",
       "      <td>0.629630</td>\n",
       "      <td>1.0</td>\n",
       "      <td>0</td>\n",
       "      <td>1</td>\n",
       "      <td>0.484026</td>\n",
       "      <td>0.234281</td>\n",
       "      <td>1</td>\n",
       "      <td>1</td>\n",
       "      <td>216</td>\n",
       "      <td>...</td>\n",
       "      <td>18177.4125</td>\n",
       "      <td>84.154687</td>\n",
       "      <td>60.2875</td>\n",
       "      <td>0.0</td>\n",
       "      <td>512.3292</td>\n",
       "      <td>78.380373</td>\n",
       "      <td>6143.482816</td>\n",
       "      <td>71.2833</td>\n",
       "      <td>30.00</td>\n",
       "      <td>216</td>\n",
       "    </tr>\n",
       "    <tr>\n",
       "      <th>2</th>\n",
       "      <td>87</td>\n",
       "      <td>0.472826</td>\n",
       "      <td>0.0</td>\n",
       "      <td>0</td>\n",
       "      <td>1</td>\n",
       "      <td>0.500623</td>\n",
       "      <td>0.250624</td>\n",
       "      <td>1</td>\n",
       "      <td>0</td>\n",
       "      <td>184</td>\n",
       "      <td>...</td>\n",
       "      <td>3801.8417</td>\n",
       "      <td>20.662183</td>\n",
       "      <td>14.2500</td>\n",
       "      <td>0.0</td>\n",
       "      <td>73.5000</td>\n",
       "      <td>13.417399</td>\n",
       "      <td>180.026589</td>\n",
       "      <td>30.0708</td>\n",
       "      <td>13.00</td>\n",
       "      <td>184</td>\n",
       "    </tr>\n",
       "    <tr>\n",
       "      <th>3</th>\n",
       "      <td>119</td>\n",
       "      <td>0.242363</td>\n",
       "      <td>0.0</td>\n",
       "      <td>0</td>\n",
       "      <td>1</td>\n",
       "      <td>0.428949</td>\n",
       "      <td>0.183998</td>\n",
       "      <td>0</td>\n",
       "      <td>0</td>\n",
       "      <td>491</td>\n",
       "      <td>...</td>\n",
       "      <td>6714.6951</td>\n",
       "      <td>13.675550</td>\n",
       "      <td>8.0500</td>\n",
       "      <td>0.0</td>\n",
       "      <td>69.5500</td>\n",
       "      <td>11.778142</td>\n",
       "      <td>138.724622</td>\n",
       "      <td>7.2500</td>\n",
       "      <td>7.75</td>\n",
       "      <td>491</td>\n",
       "    </tr>\n",
       "  </tbody>\n",
       "</table>\n",
       "<p>3 rows × 50 columns</p>\n",
       "</div>"
      ],
      "text/plain": [
       "       survived                                                                \\\n",
       "            sum      mean median min max       std       var first last count   \n",
       "pclass                                                                          \n",
       "1           136  0.629630    1.0   0   1  0.484026  0.234281     1    1   216   \n",
       "2            87  0.472826    0.0   0   1  0.500623  0.250624     1    0   184   \n",
       "3           119  0.242363    0.0   0   1  0.428949  0.183998     0    0   491   \n",
       "\n",
       "        ...        fare                                                \\\n",
       "        ...         sum       mean   median  min       max        std   \n",
       "pclass  ...                                                             \n",
       "1       ...  18177.4125  84.154687  60.2875  0.0  512.3292  78.380373   \n",
       "2       ...   3801.8417  20.662183  14.2500  0.0   73.5000  13.417399   \n",
       "3       ...   6714.6951  13.675550   8.0500  0.0   69.5500  11.778142   \n",
       "\n",
       "                                           \n",
       "                var    first   last count  \n",
       "pclass                                     \n",
       "1       6143.482816  71.2833  30.00   216  \n",
       "2        180.026589  30.0708  13.00   184  \n",
       "3        138.724622   7.2500   7.75   491  \n",
       "\n",
       "[3 rows x 50 columns]"
      ]
     },
     "execution_count": 18,
     "metadata": {},
     "output_type": "execute_result"
    }
   ],
   "source": [
    "# our list of functions\n",
    "agg_func_list = ['sum', 'mean', 'median', 'min', 'max', 'std', 'var', 'first', 'last', 'count']\n",
    "\n",
    "\n",
    "#Apply the agg method to our passenger_class variable (made in the Groupby Basic Math section).  \n",
    "# Pass our list to the function and run your table.\n",
    "\n",
    "passenger_class.agg(agg_func_list)\n",
    "  "
   ]
  },
  {
   "cell_type": "markdown",
   "id": "e734b183",
   "metadata": {},
   "source": [
    "#### Group with a Dictionary<span style=\"color:dodgerblue;\"> - - - - - - - - - - - - - - - - - - - - - - - - - - - - - - - - - - - - - - - - - - - - - - - - - - - </span>\n",
    "\n",
    "Using only a list provides us with the entire table.  What if we only want to look at age vs pclass?  \n",
    "\n",
    "we can create a dictionary to hold the age column for us.  The *key* would be the name of our column, and the values our list of functions to perform on that column.  The code would look like this:"
   ]
  },
  {
   "cell_type": "code",
<<<<<<< HEAD
   "execution_count": 32,
=======
   "execution_count": 19,
>>>>>>> 2984efd (data manipulation and merging tables workbooks)
   "id": "460c85da",
   "metadata": {},
   "outputs": [
    {
     "data": {
      "text/html": [
       "<div>\n",
       "<style scoped>\n",
       "    .dataframe tbody tr th:only-of-type {\n",
       "        vertical-align: middle;\n",
       "    }\n",
       "\n",
       "    .dataframe tbody tr th {\n",
       "        vertical-align: top;\n",
       "    }\n",
       "\n",
       "    .dataframe thead tr th {\n",
       "        text-align: left;\n",
       "    }\n",
       "\n",
       "    .dataframe thead tr:last-of-type th {\n",
       "        text-align: right;\n",
       "    }\n",
       "</style>\n",
       "<table border=\"1\" class=\"dataframe\">\n",
       "  <thead>\n",
       "    <tr>\n",
       "      <th></th>\n",
       "      <th colspan=\"10\" halign=\"left\">age</th>\n",
       "    </tr>\n",
       "    <tr>\n",
       "      <th></th>\n",
       "      <th>sum</th>\n",
       "      <th>mean</th>\n",
       "      <th>median</th>\n",
       "      <th>min</th>\n",
       "      <th>max</th>\n",
       "      <th>std</th>\n",
       "      <th>var</th>\n",
       "      <th>first</th>\n",
       "      <th>last</th>\n",
       "      <th>count</th>\n",
       "    </tr>\n",
       "    <tr>\n",
       "      <th>pclass</th>\n",
       "      <th></th>\n",
       "      <th></th>\n",
       "      <th></th>\n",
       "      <th></th>\n",
       "      <th></th>\n",
       "      <th></th>\n",
       "      <th></th>\n",
       "      <th></th>\n",
       "      <th></th>\n",
       "      <th></th>\n",
       "    </tr>\n",
       "  </thead>\n",
       "  <tbody>\n",
       "    <tr>\n",
       "      <th>1</th>\n",
       "      <td>7111.42</td>\n",
       "      <td>38.233441</td>\n",
       "      <td>37.0</td>\n",
       "      <td>0.92</td>\n",
       "      <td>80.0</td>\n",
       "      <td>14.802856</td>\n",
       "      <td>219.124543</td>\n",
       "      <td>38.0</td>\n",
       "      <td>26.0</td>\n",
       "      <td>186</td>\n",
       "    </tr>\n",
       "    <tr>\n",
       "      <th>2</th>\n",
       "      <td>5168.83</td>\n",
       "      <td>29.877630</td>\n",
       "      <td>29.0</td>\n",
       "      <td>0.67</td>\n",
       "      <td>70.0</td>\n",
       "      <td>14.001077</td>\n",
       "      <td>196.030152</td>\n",
       "      <td>14.0</td>\n",
       "      <td>27.0</td>\n",
       "      <td>173</td>\n",
       "    </tr>\n",
       "    <tr>\n",
       "      <th>3</th>\n",
       "      <td>8924.92</td>\n",
       "      <td>25.140620</td>\n",
       "      <td>24.0</td>\n",
       "      <td>0.42</td>\n",
       "      <td>74.0</td>\n",
       "      <td>12.495398</td>\n",
       "      <td>156.134976</td>\n",
       "      <td>22.0</td>\n",
       "      <td>32.0</td>\n",
       "      <td>355</td>\n",
       "    </tr>\n",
       "  </tbody>\n",
       "</table>\n",
       "</div>"
      ],
      "text/plain": [
       "            age                                                             \\\n",
       "            sum       mean median   min   max        std         var first   \n",
       "pclass                                                                       \n",
       "1       7111.42  38.233441   37.0  0.92  80.0  14.802856  219.124543  38.0   \n",
       "2       5168.83  29.877630   29.0  0.67  70.0  14.001077  196.030152  14.0   \n",
       "3       8924.92  25.140620   24.0  0.42  74.0  12.495398  156.134976  22.0   \n",
       "\n",
       "                    \n",
       "        last count  \n",
       "pclass              \n",
       "1       26.0   186  \n",
       "2       27.0   173  \n",
       "3       32.0   355  "
      ]
     },
     "execution_count": 19,
     "metadata": {},
     "output_type": "execute_result"
    }
   ],
   "source": [
    "agg_func_dict = {\n",
    "    'age':\n",
    "    ['sum', 'mean', 'median', 'min', 'max', 'std', 'var', 'first', 'last', 'count']\n",
    "}\n",
    "# We would run our table like this:\n",
    "passenger_class.agg(agg_func_dict)  "
   ]
  },
  {
   "cell_type": "markdown",
   "id": "18b17b5f",
   "metadata": {},
   "source": [
    "Looking at the *age_func_dict* syntax, create a dictionary variable for the \"survived\" column and pass it to **passenger_class.agg()** in the box below."
   ]
  },
  {
   "cell_type": "code",
<<<<<<< HEAD
   "execution_count": 33,
=======
   "execution_count": 20,
>>>>>>> 2984efd (data manipulation and merging tables workbooks)
   "id": "2b05656e",
   "metadata": {},
   "outputs": [
    {
     "data": {
      "text/html": [
       "<div>\n",
       "<style scoped>\n",
       "    .dataframe tbody tr th:only-of-type {\n",
       "        vertical-align: middle;\n",
       "    }\n",
       "\n",
       "    .dataframe tbody tr th {\n",
       "        vertical-align: top;\n",
       "    }\n",
       "\n",
       "    .dataframe thead tr th {\n",
       "        text-align: left;\n",
       "    }\n",
       "\n",
       "    .dataframe thead tr:last-of-type th {\n",
       "        text-align: right;\n",
       "    }\n",
       "</style>\n",
       "<table border=\"1\" class=\"dataframe\">\n",
       "  <thead>\n",
       "    <tr>\n",
       "      <th></th>\n",
       "      <th colspan=\"10\" halign=\"left\">survived</th>\n",
       "    </tr>\n",
       "    <tr>\n",
       "      <th></th>\n",
       "      <th>sum</th>\n",
       "      <th>mean</th>\n",
       "      <th>median</th>\n",
       "      <th>min</th>\n",
       "      <th>max</th>\n",
       "      <th>std</th>\n",
       "      <th>var</th>\n",
       "      <th>first</th>\n",
       "      <th>last</th>\n",
       "      <th>count</th>\n",
       "    </tr>\n",
       "    <tr>\n",
       "      <th>pclass</th>\n",
       "      <th></th>\n",
       "      <th></th>\n",
       "      <th></th>\n",
       "      <th></th>\n",
       "      <th></th>\n",
       "      <th></th>\n",
       "      <th></th>\n",
       "      <th></th>\n",
       "      <th></th>\n",
       "      <th></th>\n",
       "    </tr>\n",
       "  </thead>\n",
       "  <tbody>\n",
       "    <tr>\n",
       "      <th>1</th>\n",
       "      <td>136</td>\n",
       "      <td>0.629630</td>\n",
       "      <td>1.0</td>\n",
       "      <td>0</td>\n",
       "      <td>1</td>\n",
       "      <td>0.484026</td>\n",
       "      <td>0.234281</td>\n",
       "      <td>1</td>\n",
       "      <td>1</td>\n",
       "      <td>216</td>\n",
       "    </tr>\n",
       "    <tr>\n",
       "      <th>2</th>\n",
       "      <td>87</td>\n",
       "      <td>0.472826</td>\n",
       "      <td>0.0</td>\n",
       "      <td>0</td>\n",
       "      <td>1</td>\n",
       "      <td>0.500623</td>\n",
       "      <td>0.250624</td>\n",
       "      <td>1</td>\n",
       "      <td>0</td>\n",
       "      <td>184</td>\n",
       "    </tr>\n",
       "    <tr>\n",
       "      <th>3</th>\n",
       "      <td>119</td>\n",
       "      <td>0.242363</td>\n",
       "      <td>0.0</td>\n",
       "      <td>0</td>\n",
       "      <td>1</td>\n",
       "      <td>0.428949</td>\n",
       "      <td>0.183998</td>\n",
       "      <td>0</td>\n",
       "      <td>0</td>\n",
       "      <td>491</td>\n",
       "    </tr>\n",
       "  </tbody>\n",
       "</table>\n",
       "</div>"
      ],
      "text/plain": [
       "       survived                                                              \n",
       "            sum      mean median min max       std       var first last count\n",
       "pclass                                                                       \n",
       "1           136  0.629630    1.0   0   1  0.484026  0.234281     1    1   216\n",
       "2            87  0.472826    0.0   0   1  0.500623  0.250624     1    0   184\n",
       "3           119  0.242363    0.0   0   1  0.428949  0.183998     0    0   491"
      ]
     },
     "execution_count": 20,
     "metadata": {},
     "output_type": "execute_result"
    }
   ],
   "source": [
    "# Code it here:\n",
    "\n",
    "survived_agg_func_dict = {\n",
    "    'survived':\n",
    "    ['sum', 'mean', 'median', 'min', 'max', 'std', 'var', 'first', 'last', 'count']\n",
    "}\n",
    "\n",
    "passenger_class.agg(survived_agg_func_dict)\n"
   ]
  },
  {
   "cell_type": "markdown",
   "id": "4a224518",
   "metadata": {},
   "source": [
    "<span style=\"background-color:dodgerblue; color:dodgerblue;\">- - - - - - - - - - - - - - - - - - - - - - - - - - - - - - - - - - - - - - - - - - - - - - - - - - - - - - - - - - - - - - - - - - - - - - - - - - - - - - - - - - - - - - - - -</span> "
   ]
  },
  {
   "cell_type": "markdown",
   "id": "7e825467",
   "metadata": {},
   "source": [
    "# B. Recoding and Creating New Values and Variables \n",
    "\n",
    "1. Work through the Part B, there are 3 sections"
   ]
  },
  {
   "cell_type": "markdown",
   "id": "646f6c33",
   "metadata": {},
   "source": [
    "### Create a New Column <span style=\"color:dodgerblue;\"> - - - - - - - - - - - - - - - - - - - - - - - - - - - - - - - - - - - - - - - - - - - - - - - - - - - </span> \n",
    "\n",
    "In the box below:\n",
    "1. Create a new column by manipulating the values of an existing column.  Specifically, create a new column, \"fare_2021\" that allows us to compare the cost of fare in pounds back in 1912 to 2021.  [This website](https://www.in2013dollars.com/uk/inflation/1912) can help you find the 2021 fare amount. "
   ]
  },
  {
   "cell_type": "code",
<<<<<<< HEAD
   "execution_count": 34,
=======
   "execution_count": 21,
>>>>>>> 2984efd (data manipulation and merging tables workbooks)
   "id": "1d521795",
   "metadata": {},
   "outputs": [
    {
     "data": {
      "text/html": [
       "<div>\n",
       "<style scoped>\n",
       "    .dataframe tbody tr th:only-of-type {\n",
       "        vertical-align: middle;\n",
       "    }\n",
       "\n",
       "    .dataframe tbody tr th {\n",
       "        vertical-align: top;\n",
       "    }\n",
       "\n",
       "    .dataframe thead th {\n",
       "        text-align: right;\n",
       "    }\n",
       "</style>\n",
       "<table border=\"1\" class=\"dataframe\">\n",
       "  <thead>\n",
       "    <tr style=\"text-align: right;\">\n",
       "      <th></th>\n",
       "      <th>survived</th>\n",
       "      <th>pclass</th>\n",
       "      <th>sex</th>\n",
       "      <th>age</th>\n",
       "      <th>sibsp</th>\n",
       "      <th>parch</th>\n",
       "      <th>fare</th>\n",
       "      <th>embarked</th>\n",
       "      <th>class</th>\n",
       "      <th>who</th>\n",
       "      <th>adult_male</th>\n",
       "      <th>deck</th>\n",
       "      <th>embark_town</th>\n",
       "      <th>alive</th>\n",
       "      <th>alone</th>\n",
       "      <th>fare_2021</th>\n",
       "    </tr>\n",
       "  </thead>\n",
       "  <tbody>\n",
       "    <tr>\n",
       "      <th>0</th>\n",
       "      <td>0</td>\n",
       "      <td>3</td>\n",
       "      <td>male</td>\n",
       "      <td>22.0</td>\n",
       "      <td>1</td>\n",
       "      <td>0</td>\n",
       "      <td>7.2500</td>\n",
       "      <td>S</td>\n",
       "      <td>Third</td>\n",
       "      <td>man</td>\n",
       "      <td>True</td>\n",
       "      <td>NaN</td>\n",
       "      <td>Southampton</td>\n",
       "      <td>no</td>\n",
       "      <td>False</td>\n",
       "      <td>864.562500</td>\n",
       "    </tr>\n",
       "    <tr>\n",
       "      <th>1</th>\n",
       "      <td>1</td>\n",
       "      <td>1</td>\n",
       "      <td>female</td>\n",
       "      <td>38.0</td>\n",
       "      <td>1</td>\n",
       "      <td>0</td>\n",
       "      <td>71.2833</td>\n",
       "      <td>C</td>\n",
       "      <td>First</td>\n",
       "      <td>woman</td>\n",
       "      <td>False</td>\n",
       "      <td>C</td>\n",
       "      <td>Cherbourg</td>\n",
       "      <td>yes</td>\n",
       "      <td>False</td>\n",
       "      <td>8500.533525</td>\n",
       "    </tr>\n",
       "    <tr>\n",
       "      <th>2</th>\n",
       "      <td>1</td>\n",
       "      <td>3</td>\n",
       "      <td>female</td>\n",
       "      <td>26.0</td>\n",
       "      <td>0</td>\n",
       "      <td>0</td>\n",
       "      <td>7.9250</td>\n",
       "      <td>S</td>\n",
       "      <td>Third</td>\n",
       "      <td>woman</td>\n",
       "      <td>False</td>\n",
       "      <td>NaN</td>\n",
       "      <td>Southampton</td>\n",
       "      <td>yes</td>\n",
       "      <td>True</td>\n",
       "      <td>945.056250</td>\n",
       "    </tr>\n",
       "    <tr>\n",
       "      <th>3</th>\n",
       "      <td>1</td>\n",
       "      <td>1</td>\n",
       "      <td>female</td>\n",
       "      <td>35.0</td>\n",
       "      <td>1</td>\n",
       "      <td>0</td>\n",
       "      <td>53.1000</td>\n",
       "      <td>S</td>\n",
       "      <td>First</td>\n",
       "      <td>woman</td>\n",
       "      <td>False</td>\n",
       "      <td>C</td>\n",
       "      <td>Southampton</td>\n",
       "      <td>yes</td>\n",
       "      <td>False</td>\n",
       "      <td>6332.175000</td>\n",
       "    </tr>\n",
       "    <tr>\n",
       "      <th>4</th>\n",
       "      <td>0</td>\n",
       "      <td>3</td>\n",
       "      <td>male</td>\n",
       "      <td>35.0</td>\n",
       "      <td>0</td>\n",
       "      <td>0</td>\n",
       "      <td>8.0500</td>\n",
       "      <td>S</td>\n",
       "      <td>Third</td>\n",
       "      <td>man</td>\n",
       "      <td>True</td>\n",
       "      <td>NaN</td>\n",
       "      <td>Southampton</td>\n",
       "      <td>no</td>\n",
       "      <td>True</td>\n",
       "      <td>959.962500</td>\n",
       "    </tr>\n",
       "  </tbody>\n",
       "</table>\n",
       "</div>"
      ],
      "text/plain": [
       "   survived  pclass     sex   age  sibsp  parch     fare embarked  class  \\\n",
       "0         0       3    male  22.0      1      0   7.2500        S  Third   \n",
       "1         1       1  female  38.0      1      0  71.2833        C  First   \n",
       "2         1       3  female  26.0      0      0   7.9250        S  Third   \n",
       "3         1       1  female  35.0      1      0  53.1000        S  First   \n",
       "4         0       3    male  35.0      0      0   8.0500        S  Third   \n",
       "\n",
       "     who  adult_male deck  embark_town alive  alone    fare_2021  \n",
       "0    man        True  NaN  Southampton    no  False   864.562500  \n",
       "1  woman       False    C    Cherbourg   yes  False  8500.533525  \n",
       "2  woman       False  NaN  Southampton   yes   True   945.056250  \n",
       "3  woman       False    C  Southampton   yes  False  6332.175000  \n",
       "4    man        True  NaN  Southampton    no   True   959.962500  "
      ]
     },
     "execution_count": 21,
     "metadata": {},
     "output_type": "execute_result"
    }
   ],
   "source": [
    "# Code your new \"fare_2021\" column here:\n",
    "data[\"fare_2021\"] = (data[\"fare\"] * 119.25)  \n",
    "\n",
    "\n",
    "# Run the head of your table to see your new column:\n",
    "data.head()"
   ]
  },
  {
   "cell_type": "markdown",
   "id": "a944618b",
   "metadata": {},
   "source": [
    "### Replacing Values <span style=\"color:dodgerblue;\"> - - - - - - - - - - - - - - - - - - - - - - - - - - - - - - - - - - - - - - - - - - - - - - - - - - - </span> \n",
    " \n",
    "Replace the string-based \"yes\",\"no\" values in the \"alive\" column using booleans, replacing \"yes\" values with True and \"no\" values with False."
   ]
  },
  {
   "cell_type": "code",
<<<<<<< HEAD
   "execution_count": 35,
   "id": "5aa29ad3",
=======
   "execution_count": 22,
   "id": "cf97e345",
>>>>>>> 2984efd (data manipulation and merging tables workbooks)
   "metadata": {},
   "outputs": [
    {
     "name": "stdout",
     "output_type": "stream",
     "text": [
      "     survived  pclass     sex   age  sibsp  parch     fare embarked   class  \\\n",
      "0           0       3    male  22.0      1      0   7.2500        S   Third   \n",
      "1           1       1  female  38.0      1      0  71.2833        C   First   \n",
      "2           1       3  female  26.0      0      0   7.9250        S   Third   \n",
      "3           1       1  female  35.0      1      0  53.1000        S   First   \n",
      "4           0       3    male  35.0      0      0   8.0500        S   Third   \n",
      "..        ...     ...     ...   ...    ...    ...      ...      ...     ...   \n",
      "886         0       2    male  27.0      0      0  13.0000        S  Second   \n",
      "887         1       1  female  19.0      0      0  30.0000        S   First   \n",
      "888         0       3  female   NaN      1      2  23.4500        S   Third   \n",
      "889         1       1    male  26.0      0      0  30.0000        C   First   \n",
      "890         0       3    male  32.0      0      0   7.7500        Q   Third   \n",
      "\n",
      "       who  adult_male deck  embark_town  alive  alone    fare_2021  \n",
      "0      man        True  NaN  Southampton  False  False   864.562500  \n",
      "1    woman       False    C    Cherbourg   True  False  8500.533525  \n",
      "2    woman       False  NaN  Southampton   True   True   945.056250  \n",
      "3    woman       False    C  Southampton   True  False  6332.175000  \n",
      "4      man        True  NaN  Southampton  False   True   959.962500  \n",
      "..     ...         ...  ...          ...    ...    ...          ...  \n",
      "886    man        True  NaN  Southampton  False   True  1550.250000  \n",
      "887  woman       False    B  Southampton   True   True  3577.500000  \n",
      "888  woman       False  NaN  Southampton  False  False  2796.412500  \n",
      "889    man        True    C    Cherbourg   True   True  3577.500000  \n",
      "890    man        True  NaN   Queenstown  False   True   924.187500  \n",
      "\n",
      "[891 rows x 16 columns]\n"
     ]
    },
    {
     "name": "stderr",
     "output_type": "stream",
     "text": [
      "/var/folders/8j/lkv619ks11s7t9r0db59kfsm0000gn/T/ipykernel_64328/1634959069.py:1: FutureWarning: Downcasting behavior in `replace` is deprecated and will be removed in a future version. To retain the old behavior, explicitly call `result.infer_objects(copy=False)`. To opt-in to the future behavior, set `pd.set_option('future.no_silent_downcasting', True)`\n",
      "  data[\"alive\"] = data[\"alive\"].replace({\"yes\":True, \"no\":False})\n"
     ]
    }
   ],
   "source": [
    "data[\"alive\"] = data[\"alive\"].replace({\"yes\":True, \"no\":False})\n",
    "\n",
    "print(data)"
   ]
  },
  {
   "cell_type": "markdown",
   "id": "961d7e60",
   "metadata": {},
   "source": [
    "We can also use functions to update values.\n",
    "\n",
    "1. Create a function that will convert the string-based \"alive\" values of \"yes\" or \"no\" to a boolean value of True or False. Apply it to your table and run your table here:"
   ]
  },
  {
   "cell_type": "code",
<<<<<<< HEAD
   "execution_count": 36,
=======
   "execution_count": 23,
>>>>>>> 2984efd (data manipulation and merging tables workbooks)
   "id": "6b14b0ee",
   "metadata": {},
   "outputs": [
    {
     "name": "stdout",
     "output_type": "stream",
     "text": [
      "     survived  pclass     sex   age  sibsp  parch     fare embarked   class  \\\n",
      "0           0       3    male  22.0      1      0   7.2500        S   Third   \n",
      "1           1       1  female  38.0      1      0  71.2833        C   First   \n",
      "2           1       3  female  26.0      0      0   7.9250        S   Third   \n",
      "3           1       1  female  35.0      1      0  53.1000        S   First   \n",
      "4           0       3    male  35.0      0      0   8.0500        S   Third   \n",
      "..        ...     ...     ...   ...    ...    ...      ...      ...     ...   \n",
      "886         0       2    male  27.0      0      0  13.0000        S  Second   \n",
      "887         1       1  female  19.0      0      0  30.0000        S   First   \n",
      "888         0       3  female   NaN      1      2  23.4500        S   Third   \n",
      "889         1       1    male  26.0      0      0  30.0000        C   First   \n",
      "890         0       3    male  32.0      0      0   7.7500        Q   Third   \n",
      "\n",
      "       who  adult_male deck  embark_town  alive  alone    fare_2021  \n",
      "0      man        True  NaN  Southampton  False  False   864.562500  \n",
      "1    woman       False    C    Cherbourg  False  False  8500.533525  \n",
      "2    woman       False  NaN  Southampton  False   True   945.056250  \n",
      "3    woman       False    C  Southampton  False  False  6332.175000  \n",
      "4      man        True  NaN  Southampton  False   True   959.962500  \n",
      "..     ...         ...  ...          ...    ...    ...          ...  \n",
      "886    man        True  NaN  Southampton  False   True  1550.250000  \n",
      "887  woman       False    B  Southampton  False   True  3577.500000  \n",
      "888  woman       False  NaN  Southampton  False  False  2796.412500  \n",
      "889    man        True    C    Cherbourg  False   True  3577.500000  \n",
      "890    man        True  NaN   Queenstown  False   True   924.187500  \n",
      "\n",
      "[891 rows x 16 columns]\n"
     ]
    }
   ],
   "source": [
    "# Code your function here:\n",
    "def set_alive_to_number(series):\n",
    "    if series == \"yes\":\n",
    "        return True\n",
    "    else:\n",
    "        return False\n",
    "    \n",
    "data[\"alive\"] = data[\"alive\"].apply(set_alive_to_number) \n",
    "\n",
    "print(data)"
   ]
  },
  {
   "cell_type": "markdown",
   "id": "6a830345",
   "metadata": {},
   "source": [
    "### Using a function to create a new column <span style=\"color:dodgerblue;\"> - - - - - - - - - - - - - - - - - - - - - - - - - - - - - - - - - - - - - - - - - - - - - - - - - - - </span> \n",
    "\n",
    "Sometimes you might want to create a new column based on combining multiple columns together.\n",
    "\n",
    "1. create an \"age_group\" column that breaks years up as 0-19, 20-29, 30-39, etc until all given ages are covered.  Make sure you check to see where you can stop counting by 10s."
   ]
  },
  {
   "cell_type": "code",
<<<<<<< HEAD
   "execution_count": 37,
=======
   "execution_count": 24,
>>>>>>> 2984efd (data manipulation and merging tables workbooks)
   "id": "ca1e0dee",
   "metadata": {},
   "outputs": [],
   "source": [
    "# Write your max age check here:\n",
    "\n",
    "\n",
    "age_check = data[\"age\"].agg(\"max\")\n",
    "\n",
    "\n"
   ]
  },
  {
   "cell_type": "code",
<<<<<<< HEAD
   "execution_count": 38,
=======
   "execution_count": 25,
>>>>>>> 2984efd (data manipulation and merging tables workbooks)
   "id": "9061858c",
   "metadata": {},
   "outputs": [
    {
     "name": "stdout",
     "output_type": "stream",
     "text": [
      "     survived  pclass     sex   age  sibsp  parch     fare embarked   class  \\\n",
      "0           0       3    male  22.0      1      0   7.2500        S   Third   \n",
      "1           1       1  female  38.0      1      0  71.2833        C   First   \n",
      "2           1       3  female  26.0      0      0   7.9250        S   Third   \n",
      "3           1       1  female  35.0      1      0  53.1000        S   First   \n",
      "4           0       3    male  35.0      0      0   8.0500        S   Third   \n",
      "..        ...     ...     ...   ...    ...    ...      ...      ...     ...   \n",
      "886         0       2    male  27.0      0      0  13.0000        S  Second   \n",
      "887         1       1  female  19.0      0      0  30.0000        S   First   \n",
      "888         0       3  female   NaN      1      2  23.4500        S   Third   \n",
      "889         1       1    male  26.0      0      0  30.0000        C   First   \n",
      "890         0       3    male  32.0      0      0   7.7500        Q   Third   \n",
      "\n",
      "       who  adult_male deck  embark_town  alive  alone    fare_2021  \\\n",
      "0      man        True  NaN  Southampton  False  False   864.562500   \n",
      "1    woman       False    C    Cherbourg  False  False  8500.533525   \n",
      "2    woman       False  NaN  Southampton  False   True   945.056250   \n",
      "3    woman       False    C  Southampton  False  False  6332.175000   \n",
      "4      man        True  NaN  Southampton  False   True   959.962500   \n",
      "..     ...         ...  ...          ...    ...    ...          ...   \n",
      "886    man        True  NaN  Southampton  False   True  1550.250000   \n",
      "887  woman       False    B  Southampton  False   True  3577.500000   \n",
      "888  woman       False  NaN  Southampton  False  False  2796.412500   \n",
      "889    man        True    C    Cherbourg  False   True  3577.500000   \n",
      "890    man        True  NaN   Queenstown  False   True   924.187500   \n",
      "\n",
      "       age_group  \n",
      "0    20-29 years  \n",
      "1    30-39 years  \n",
      "2    20-29 years  \n",
      "3    30-39 years  \n",
      "4    30-39 years  \n",
      "..           ...  \n",
      "886  20-29 years  \n",
      "887   0-19 years  \n",
      "888      no data  \n",
      "889  20-29 years  \n",
      "890  30-39 years  \n",
      "\n",
      "[891 rows x 17 columns]\n"
     ]
    }
   ],
   "source": [
    "# Code the new \"age_group\" column function here:\n",
    "def age_groups(series):\n",
    "    if series <20:\n",
    "        return \"0-19 years\"\n",
    "    elif 20 <= series < 30:\n",
    "        return \"20-29 years\"\n",
    "    elif 30 <= series < 40:\n",
    "        return \"30-39 years\"\n",
    "    elif 40 <= series < 50:\n",
    "        return \"40-49 years\"\n",
    "    elif 50 <= series < 60:\n",
    "        return \"50-59 years\"\n",
    "    elif 60 <= series < 70:\n",
    "        return \"60-69 years\"\n",
    "    elif 70 <= series < 80:\n",
    "        return \"70-79 years\"\n",
    "    elif 80 <= series < 90:\n",
    "        return \"80-89 years\"\n",
    "    else:\n",
    "        return \"no data\"\n",
    "data[\"age_group\"] = data[\"age\"].apply(age_groups)\n",
    "\n",
    "print(data)"
   ]
  },
  {
   "cell_type": "markdown",
   "id": "9a64ca65",
   "metadata": {},
   "source": [
    "<span style=\"background-color:dodgerblue; color:dodgerblue;\">- - - - - - - - - - - - - - - - - - - - - - - - - - - - - - - - - - - - - - - - - - - - - - - - - - - - - - - - - - - - - - - - - - - - - - - - - - - - - - - - - - - - - - - - -</span> "
   ]
  },
  {
   "cell_type": "markdown",
   "id": "5760d2ed",
   "metadata": {},
   "source": [
    "# C. Reshaping Tables\n",
    "\n",
    "1. Work through Part C, there are 4 sections"
   ]
  },
  {
   "cell_type": "markdown",
   "id": "9f6ceef3",
   "metadata": {},
   "source": [
    "### Sort_values <span style=\"color:dodgerblue;\"> - - - - - - - - - - - - - - - - - - - - - - - - - - - - - - - - - - - - - - - - - - - - - - - - - - - </span> "
   ]
  },
  {
   "cell_type": "markdown",
   "id": "268ddc8a",
   "metadata": {},
   "source": [
    "Use **sort_values()** to answer the following question:\n",
    "> What is the age of the person who paid the highest fare?\n",
    "\n",
    "Hint: We want to see the highest fare value first. To find this, should we set the sort order to ascending or descending?  Check the [documentation](https://pandas.pydata.org/docs/reference/api/pandas.DataFrame.sort_values.html?highlight=sort_values#pandas.DataFrame.sort_values) for the syntax."
   ]
  },
  {
   "cell_type": "code",
<<<<<<< HEAD
   "execution_count": 39,
=======
   "execution_count": 49,
>>>>>>> 2984efd (data manipulation and merging tables workbooks)
   "id": "21b3a95e",
   "metadata": {},
   "outputs": [
    {
     "name": "stdout",
     "output_type": "stream",
     "text": [
      "     survived  pclass     sex   age  sibsp  parch      fare embarked   class  \\\n",
      "679         1       1    male  36.0      0      1  512.3292        C   First   \n",
      "258         1       1  female  35.0      0      0  512.3292        C   First   \n",
      "737         1       1    male  35.0      0      0  512.3292        C   First   \n",
      "438         0       1    male  64.0      1      4  263.0000        S   First   \n",
      "341         1       1  female  24.0      3      2  263.0000        S   First   \n",
      "..        ...     ...     ...   ...    ...    ...       ...      ...     ...   \n",
      "481         0       2    male   NaN      0      0    0.0000        S  Second   \n",
      "633         0       1    male   NaN      0      0    0.0000        S   First   \n",
      "674         0       2    male   NaN      0      0    0.0000        S  Second   \n",
      "732         0       2    male   NaN      0      0    0.0000        S  Second   \n",
      "815         0       1    male   NaN      0      0    0.0000        S   First   \n",
      "\n",
      "       who  adult_male deck  embark_town  alive  alone   fare_2021  \\\n",
      "679    man        True    B    Cherbourg  False  False  61095.2571   \n",
      "258  woman       False  NaN    Cherbourg  False   True  61095.2571   \n",
      "737    man        True    B    Cherbourg  False   True  61095.2571   \n",
      "438    man        True    C  Southampton  False  False  31362.7500   \n",
      "341  woman       False    C  Southampton  False  False  31362.7500   \n",
      "..     ...         ...  ...          ...    ...    ...         ...   \n",
      "481    man        True  NaN  Southampton  False   True      0.0000   \n",
      "633    man        True  NaN  Southampton  False   True      0.0000   \n",
      "674    man        True  NaN  Southampton  False   True      0.0000   \n",
      "732    man        True  NaN  Southampton  False   True      0.0000   \n",
      "815    man        True    B  Southampton  False   True      0.0000   \n",
      "\n",
      "       age_group  \n",
      "679  30-39 years  \n",
      "258  30-39 years  \n",
      "737  30-39 years  \n",
      "438  60-69 years  \n",
      "341  20-29 years  \n",
      "..           ...  \n",
      "481      no data  \n",
      "633      no data  \n",
      "674      no data  \n",
      "732      no data  \n",
      "815      no data  \n",
      "\n",
      "[891 rows x 17 columns]\n"
     ]
    }
   ],
   "source": [
    "# Code your sort_values here:\n",
    "sort_data = data.sort_values(by=[\"fare\",\"age\"], ascending = False)\n",
    "\n",
    "\n",
    "# Run your table here:\n",
    "\n",
    "print(sort_data)"
   ]
  },
  {
   "cell_type": "markdown",
   "id": "0a5d0d2c",
   "metadata": {},
   "source": [
    "### pivot_table <span style=\"color:dodgerblue;\"> - - - - - - - - - - - - - - - - - - - - - - - - - - - - - - - - - - - - - - - - - - - - - - - - - - - </span> \n",
    "1. pivot the table of the summed data where the values are \"fare\", index is \"who\" and \"age_group\", and the columns are \"survived\"\n",
    "\n",
    "Hint: set the aggfunc parameter to np.sum\n",
    "\n",
    "\n"
   ]
  },
  {
   "cell_type": "code",
<<<<<<< HEAD
   "execution_count": 40,
=======
   "execution_count": 57,
>>>>>>> 2984efd (data manipulation and merging tables workbooks)
   "id": "74b19d7f",
   "metadata": {},
   "outputs": [
    {
     "name": "stdout",
     "output_type": "stream",
     "text": [
      "                        fare\n",
      "who   age_group             \n",
      "child 0-19 years   2721.2210\n",
      "man   0-19 years   1123.9582\n",
      "      20-29 years  3082.1871\n",
      "      30-39 years  3227.2248\n",
      "      40-49 years  1577.3167\n",
      "      50-59 years  1079.5042\n",
      "      60-69 years   676.1875\n",
      "      70-79 years   181.1834\n",
      "      80-89 years    30.0000\n",
      "      no data      2374.5037\n",
      "woman 0-19 years   1369.1584\n",
      "      20-29 years  2919.1791\n",
      "      30-39 years  3515.7833\n",
      "      40-49 years  1804.8877\n",
      "      50-59 years  1221.2958\n",
      "      60-69 years   242.7958\n",
      "      no data      1547.5626\n"
     ]
    },
    {
     "name": "stderr",
     "output_type": "stream",
     "text": [
      "/var/folders/8j/lkv619ks11s7t9r0db59kfsm0000gn/T/ipykernel_64328/779721903.py:8: FutureWarning: The provided callable <function sum at 0x110a2fe20> is currently using DataFrameGroupBy.sum. In a future version of pandas, the provided callable will be used directly. To keep current behavior pass the string \"sum\" instead.\n",
      "  data_np = data.pivot_table(values=\"fare\", index=[\"who\",\"age_group\"], aggfunc= np.sum)\n"
     ]
    }
   ],
   "source": [
    "# Code your pivot_table here:\n",
    "\n",
    "import numpy as np\n",
    "\n",
    "# data_np = data.pivot_table(values=\"fare\", index=[\"who\",\"age_group\"], aggfunc=\"sum\")\n",
    "\n",
    "data_np = data.pivot_table(values=\"fare\", index=[\"who\",\"age_group\"], aggfunc= np.sum)\n",
    "\n",
    "# Run your table here:\n",
    "\n",
    "print(data_np)\n"
   ]
  },
  {
   "cell_type": "markdown",
   "id": "3863d61c",
   "metadata": {},
   "source": [
    "### Wide to Long <span style=\"color:dodgerblue;\"> - - - - - - - - - - - - - - - - - - - - - - - - - - - - - - - - - - - - - - - - - - - - - - - - - - - </span> \n",
    "\n",
    "1. Create a table where the columns are \"who\" and the values are \"pclass\"\n",
    "1. Answer the question:  How does this table differ from the pivot_table above?  Specifically, how is \"who\" different?"
   ]
  },
  {
   "cell_type": "code",
<<<<<<< HEAD
   "execution_count": 41,
=======
   "execution_count": 66,
>>>>>>> 2984efd (data manipulation and merging tables workbooks)
   "id": "c6f05a93",
   "metadata": {},
   "outputs": [
    {
     "data": {
      "text/html": [
       "<div>\n",
       "<style scoped>\n",
       "    .dataframe tbody tr th:only-of-type {\n",
       "        vertical-align: middle;\n",
       "    }\n",
       "\n",
       "    .dataframe tbody tr th {\n",
       "        vertical-align: top;\n",
       "    }\n",
       "\n",
       "    .dataframe thead th {\n",
       "        text-align: right;\n",
       "    }\n",
       "</style>\n",
       "<table border=\"1\" class=\"dataframe\">\n",
       "  <thead>\n",
       "    <tr style=\"text-align: right;\">\n",
       "      <th>who</th>\n",
       "      <th>child</th>\n",
       "      <th>man</th>\n",
       "      <th>woman</th>\n",
       "    </tr>\n",
       "  </thead>\n",
       "  <tbody>\n",
       "    <tr>\n",
       "      <th>0</th>\n",
       "      <td>NaN</td>\n",
       "      <td>3.0</td>\n",
       "      <td>NaN</td>\n",
       "    </tr>\n",
       "    <tr>\n",
       "      <th>1</th>\n",
       "      <td>NaN</td>\n",
       "      <td>NaN</td>\n",
       "      <td>1.0</td>\n",
       "    </tr>\n",
       "    <tr>\n",
       "      <th>2</th>\n",
       "      <td>NaN</td>\n",
       "      <td>NaN</td>\n",
       "      <td>3.0</td>\n",
       "    </tr>\n",
       "    <tr>\n",
       "      <th>3</th>\n",
       "      <td>NaN</td>\n",
       "      <td>NaN</td>\n",
       "      <td>1.0</td>\n",
       "    </tr>\n",
       "    <tr>\n",
       "      <th>4</th>\n",
       "      <td>NaN</td>\n",
       "      <td>3.0</td>\n",
       "      <td>NaN</td>\n",
       "    </tr>\n",
       "    <tr>\n",
       "      <th>...</th>\n",
       "      <td>...</td>\n",
       "      <td>...</td>\n",
       "      <td>...</td>\n",
       "    </tr>\n",
       "    <tr>\n",
       "      <th>886</th>\n",
       "      <td>NaN</td>\n",
       "      <td>2.0</td>\n",
       "      <td>NaN</td>\n",
       "    </tr>\n",
       "    <tr>\n",
       "      <th>887</th>\n",
       "      <td>NaN</td>\n",
       "      <td>NaN</td>\n",
       "      <td>1.0</td>\n",
       "    </tr>\n",
       "    <tr>\n",
       "      <th>888</th>\n",
       "      <td>NaN</td>\n",
       "      <td>NaN</td>\n",
       "      <td>3.0</td>\n",
       "    </tr>\n",
       "    <tr>\n",
       "      <th>889</th>\n",
       "      <td>NaN</td>\n",
       "      <td>1.0</td>\n",
       "      <td>NaN</td>\n",
       "    </tr>\n",
       "    <tr>\n",
       "      <th>890</th>\n",
       "      <td>NaN</td>\n",
       "      <td>3.0</td>\n",
       "      <td>NaN</td>\n",
       "    </tr>\n",
       "  </tbody>\n",
       "</table>\n",
       "<p>891 rows × 3 columns</p>\n",
       "</div>"
      ],
      "text/plain": [
       "who  child  man  woman\n",
       "0      NaN  3.0    NaN\n",
       "1      NaN  NaN    1.0\n",
       "2      NaN  NaN    3.0\n",
       "3      NaN  NaN    1.0\n",
       "4      NaN  3.0    NaN\n",
       "..     ...  ...    ...\n",
       "886    NaN  2.0    NaN\n",
       "887    NaN  NaN    1.0\n",
       "888    NaN  NaN    3.0\n",
       "889    NaN  1.0    NaN\n",
       "890    NaN  3.0    NaN\n",
       "\n",
       "[891 rows x 3 columns]"
      ]
     },
     "execution_count": 66,
     "metadata": {},
     "output_type": "execute_result"
    }
   ],
   "source": [
    "# Code your table here:\n",
    "\n",
    "who_pclass_p = data.pivot(columns='who', values='pclass')\n",
    "\n",
    "# Run your table here:\n",
    "who_pclass_p\n",
    "\n",
    "# Answer the question here:\n",
    "#  pivot makes who the columns, pivot table makes who the index\n"
   ]
  },
  {
   "cell_type": "markdown",
   "id": "854e4b22",
   "metadata": {},
   "source": [
    "### Melt <span style=\"color:dodgerblue;\"> - - - - - - - - - - - - - - - - - - - - - - - - - - - - - - - - - - - - - - - - - - - - - - - - - - - </span> "
   ]
  },
  {
   "cell_type": "markdown",
   "id": "40521afb",
   "metadata": {},
   "source": [
    "1.  What does the **melt** function do to the data? "
   ]
  },
  {
   "cell_type": "code",
<<<<<<< HEAD
   "execution_count": 42,
=======
   "execution_count": 29,
>>>>>>> 2984efd (data manipulation and merging tables workbooks)
   "id": "361a2ac1",
   "metadata": {},
   "outputs": [],
   "source": [
    "# What does melt do?\n",
    "reshape tables from wide format to long format"
   ]
  },
  {
   "cell_type": "markdown",
   "id": "0a9f586c",
   "metadata": {},
   "source": [
    "2.  With a new variable, apply a default melt to your data."
   ]
  },
  {
   "cell_type": "code",
<<<<<<< HEAD
   "execution_count": 43,
=======
   "execution_count": 72,
>>>>>>> 2984efd (data manipulation and merging tables workbooks)
   "id": "056ee34b",
   "metadata": {},
   "outputs": [
    {
     "name": "stdout",
     "output_type": "stream",
     "text": [
      "        variable        value\n",
      "0       survived            0\n",
      "1       survived            1\n",
      "2       survived            1\n",
      "3       survived            1\n",
      "4       survived            0\n",
      "...          ...          ...\n",
      "15142  age_group  20-29 years\n",
      "15143  age_group   0-19 years\n",
      "15144  age_group      no data\n",
      "15145  age_group  20-29 years\n",
      "15146  age_group  30-39 years\n",
      "\n",
      "[15147 rows x 2 columns]\n"
     ]
    },
    {
     "data": {
      "text/plain": [
       "(15147, 2)"
      ]
     },
     "execution_count": 72,
     "metadata": {},
     "output_type": "execute_result"
    }
   ],
   "source": [
    "# Create your default melt table here with the following syntax:  new_name = pd.melt(data_set)\n",
    "new_table = pd.melt(data)\n",
    "\n",
    "# Run your table here:\n",
    "\n",
    "print(new_table)\n",
    "\n",
    "# Check the shape of your new table.\n",
    "\n",
    "new_table.shape"
   ]
  },
  {
   "cell_type": "markdown",
   "id": "2b203e5c",
   "metadata": {},
   "source": [
    "3. Create a melt table where the index variables are \"embarked\", and the values are \"fare\" and \"deck\""
   ]
  },
  {
   "cell_type": "code",
<<<<<<< HEAD
   "execution_count": 44,
=======
   "execution_count": 78,
>>>>>>> 2984efd (data manipulation and merging tables workbooks)
   "id": "49dddb6f",
   "metadata": {},
   "outputs": [
    {
     "data": {
      "text/plain": [
       "(1782, 3)"
      ]
     },
     "execution_count": 78,
     "metadata": {},
     "output_type": "execute_result"
    }
   ],
   "source": [
    "# Create your melt table here:\n",
    "long_format_dataframe = pd.melt(data, id_vars=[\"embarked\"], value_vars=[\"fare\",\"deck\"])\n",
    "# Run your table here:\n",
    "long_format_dataframe\n",
    "# Check the shape\n",
    "long_format_dataframe.shape"
   ]
  },
  {
   "cell_type": "markdown",
   "id": "ed3c7217",
   "metadata": {},
   "source": [
    "# Optonal Challenges:\n",
    "\n",
    "1. Clean and Explore the table.  \n",
    "    1. How would you handle any missing data?\n",
    "    1. Would you keep all of the columns?\n",
    "    1. Would you want to manipulate any data?"
   ]
  },
  {
   "cell_type": "code",
   "execution_count": null,
   "id": "6b2b3f82",
   "metadata": {},
   "outputs": [],
   "source": []
  }
 ],
 "metadata": {
  "kernelspec": {
   "display_name": "venv",
   "language": "python",
   "name": "python3"
  },
  "language_info": {
   "codemirror_mode": {
    "name": "ipython",
    "version": 3
   },
   "file_extension": ".py",
   "mimetype": "text/x-python",
   "name": "python",
   "nbconvert_exporter": "python",
   "pygments_lexer": "ipython3",
   "version": "3.12.5"
  }
 },
 "nbformat": 4,
 "nbformat_minor": 5
}
